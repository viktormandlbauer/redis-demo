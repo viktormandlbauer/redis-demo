{
 "cells": [
  {
   "cell_type": "markdown",
   "id": "4cfe9c3f",
   "metadata": {},
   "source": [
    "# Redis presentation\n",
    "This notebook includes both theoretical and practical parts as outlined in the assignment."
   ]
  },
  {
   "cell_type": "markdown",
   "id": "c50e1487",
   "metadata": {},
   "source": [
    "## Theoretical Introduction to the Database"
   ]
  },
  {
   "cell_type": "markdown",
   "id": "ee9f1a21",
   "metadata": {},
   "source": [
    "### What Is Special About the Database\n",
    "\n",
    "Redis stands out as a high-performance, in-memory key-value database with extended functionality beyond traditional key-value stores.\n",
    "\n",
    "- **Type**: Redis is a **key-value database** (NoSQL).\n",
    "\n",
    "- **Beyond Simple Key-Value**:  \n",
    "  Unlike traditional key-value databases that typically store only strings or binary blobs, Redis supports **structured values**, such as:\n",
    "  - **Lists**\n",
    "  - **Sets**\n",
    "  - **Hashes**\n",
    "  - **Sorted Sets**\n",
    "  - **Streams**, **Bitmaps**, **HyperLogLogs**, etc.\n",
    "\n",
    "  **Examples**:\n",
    "  - *Traditional key-value store*:  \n",
    "    `\"user:1\"` → `\"John Doe\"`\n",
    "  - *Redis-style structured value*:  \n",
    "    `\"user:1\"` → `{ \"name\": \"John\", \"age\": 30, \"hobbies\": [\"cycling\", \"reading\"] }`\n",
    "\n",
    "- **In-Memory Storage**:  \n",
    "  Redis keeps all data in **RAM**, making it **significantly faster** than traditional disk-based databases. RAM access is much quicker than disk I/O, which is why Redis excels in high-speed, real-time scenarios.\n",
    "\n",
    "- **Performance**:  \n",
    "  Redis is **single-threaded** but extremely well optimized. It can handle **hundreds of thousands of operations per second**, even under heavy loads.\n"
   ]
  },
  {
   "cell_type": "markdown",
   "id": "c009d7d2",
   "metadata": {},
   "source": [
    "### Where to find documentation\n",
    "https://redis.io/docs/latest/\n",
    "\n",
    "https://devdocs.io/redis/\n",
    "\n",
    "https://github.com/redis/redis"
   ]
  },
  {
   "cell_type": "markdown",
   "id": "a2a895c6",
   "metadata": {},
   "source": [
    "### What It Is Used For\n",
    "\n",
    "Redis is commonly used in scenarios where speed, simplicity, and real-time performance are important. Typical use cases include:\n",
    "\n",
    "- **Caching**: Store frequently accessed data to reduce load on slower databases.\n",
    "- **Session storage**: Temporary data like login sessions in web applications.\n",
    "- **Message queues**: Using Redis lists or streams for task queues or pub/sub messaging.\n",
    "- **Leaderboard systems**: Using sorted sets to rank players in real-time.\n",
    "- **Real-time analytics**: Count events, track metrics, and generate fast insights.\n",
    "- **Rate limiting**: Controlling how often users can perform certain actions.\n"
   ]
  },
  {
   "cell_type": "markdown",
   "id": "fb85668c",
   "metadata": {},
   "source": [
    "## Redis for Caching\n",
    "\n",
    "Redis is widely used as a caching layer to speed up data retrieval and reduce load on databases or APIs.\n",
    "\n",
    "### Why use Redis for caching?\n",
    "- Fast in-memory access\n",
    "- Optional TTL for automatic expiration\n",
    "- Simple key-value structure for quick lookups\n",
    "\n",
    "### Example use case:\n",
    "You might cache the result of a slow database query like a user profile:\n",
    "\n",
    "```python\n",
    "cached_profile = r.get(\"user:profile:42\")\n",
    "if cached_profile:\n",
    "    print(\"Cache hit!\")\n",
    "else:\n",
    "    # Slow DB query\n",
    "    profile_data = {\"name\": \"Luna\", \"email\": \"luna@example.com\"}\n",
    "    r.set(\"user:profile:42\", json.dumps(profile_data), ex=300)  # cache for 5 mins\n",
    "    print(\"Cache miss. Data fetched and stored.\")"
   ]
  },
  {
   "cell_type": "markdown",
   "id": "97b8ef25",
   "metadata": {},
   "source": [
    "## More Redis Use Cases\n",
    "\n",
    "Beyond caching and rate limiting, Redis is widely used in other real-world scenarios thanks to its speed and flexibility. Two important examples include session storage and real-time analytics.\n",
    "\n",
    "### Session Storage\n",
    "\n",
    "Redis is commonly used to store user session data in web applications. Since Redis is in-memory and fast, it allows applications to quickly retrieve and update session info such as login status, user preferences, or shopping cart contents.\n",
    "\n",
    "**Example benefits:**\n",
    "- Faster session validation compared to traditional databases\n",
    "- Built-in TTL ensures sessions expire automatically\n",
    "- Supports storing structured data (e.g., JSON, hashes)\n",
    "\n",
    "### Real-Time Analytics\n",
    "\n",
    "Redis can be used to collect and analyze real-time data, such as:\n",
    "- Page views or click counts\n",
    "- Game leaderboards\n",
    "- IoT device metrics\n",
    "\n",
    "Redis data structures like `INCR`, sorted sets, and streams are ideal for aggregating and ranking data with minimal delay.\n",
    "\n",
    "**Why it works well:**\n",
    "- Extremely low latency\n",
    "- Atomic counters and aggregates\n",
    "- Supports time-based expiration of metrics"
   ]
  },
  {
   "cell_type": "markdown",
   "id": "2733a108",
   "metadata": {},
   "source": [
    "### Strengths and Weaknesses\n",
    "\n",
    "#### Strengths\n",
    "\n",
    "- **Speed**: Redis is extremely fast due to its in-memory architecture.\n",
    "- **Rich Data Types**: Supports more than just strings — includes lists, sets, hashes, sorted sets, streams, and more.\n",
    "- **Simplicity**: Easy to install, configure, and use for simple tasks.\n",
    "- **Versatile Use Cases**: Ideal for caching, real-time analytics, pub/sub messaging, session storage, and leaderboards.\n",
    "- **Built-in Features**: Includes atomic operations, publish/subscribe, and Lua scripting support.\n",
    "- **Optional Persistence**: Can persist data using RDB snapshots or AOF logs.\n",
    "- **Scalability**: Supports replication and clustering for high availability and scalability.\n",
    "\n",
    "#### Weaknesses\n",
    "\n",
    "- **Memory-Dependent**: Data is stored in RAM by default, which can become expensive for large datasets.\n",
    "- **Limited Query Capabilities**: No support for complex queries, joins, or relational models like SQL databases.\n",
    "- **Single-threaded Core**: While optimized, CPU-heavy tasks may become bottlenecks.\n",
    "- **Not Ideal for Large Persistent Storage**: Better suited for transient or high-speed data rather than permanent storage.\n",
    "- **Persistence Requires Configuration**: Without proper setup, data loss may occur after restarts.\n",
    "- **Complexity at Scale**: Advanced features like clustering, replication, and stream processing require deeper understanding.\n"
   ]
  },
  {
   "cell_type": "markdown",
   "id": "095383ab",
   "metadata": {},
   "source": [
    "### How to Install It\n",
    "https://redis.io/docs/latest/operate/oss_and_stack/install/install-redis/"
   ]
  },
  {
   "cell_type": "markdown",
   "id": "72c1415a",
   "metadata": {},
   "source": [
    "### Other Important Information\n",
    "\n",
    "- **Client Libraries**: Redis has official and community-supported clients for many programming languages, including:\n",
    "  - Python (`redis-py`)\n",
    "  - Node.js (`ioredis`, `node-redis`)\n",
    "  - Java (`Jedis`)\n",
    "  - Go (`go-redis`)\n",
    "\n",
    "- **Security Considerations**:\n",
    "  - Redis does **not** enable authentication by default — it's important to secure access (especially when exposed to the internet).\n",
    "  - Best practice: bind to `localhost`, use firewalls, or run behind a VPN.\n",
    "  - Redis 6+ supports **ACLs** (Access Control Lists) for better security.\n",
    "\n",
    "- **Data Expiry**: Redis supports **key expiration**, making it ideal for use cases like session tokens and temporary cache storage.\n",
    "\n",
    "- **Lightweight and Fast Setup**: A single binary can run the server, with minimal configuration. Great for local development and testing.\n",
    "\n",
    "- **Redis CLI**: Comes with a built-in command-line interface (`redis-cli`) to test and interact with the database directly.\n",
    "\n",
    "- **Community and Ecosystem**:\n",
    "  - Redis has a large and active community.\n",
    "  - Hosted services are available (e.g., Redis Enterprise, Redis Cloud, AWS ElastiCache).\n",
    "\n",
    "- **Licensing**:\n",
    "  - Redis is **open-source**, released under the **BSD 3-Clause License**.\n"
   ]
  },
  {
   "cell_type": "markdown",
   "id": "a069f8d2",
   "metadata": {},
   "source": [
    "## Practical Example Using Python\n",
    "\n",
    "This section demonstrates how to use Redis in Python, including accessing the database, writing data, and reading data.\n"
   ]
  },
  {
   "cell_type": "markdown",
   "id": "60992a38",
   "metadata": {},
   "source": [
    "### How to Access the DB (Libraries)"
   ]
  },
  {
   "cell_type": "code",
   "execution_count": 6,
   "id": "4a56a235",
   "metadata": {},
   "outputs": [],
   "source": [
    "# Install the Redis Python client if you haven't already:\n",
    "# pip install redis\n",
    "\n",
    "import redis\n",
    "\n",
    "# Connect to local Redis server (default host and port)\n",
    "r = redis.Redis(host='127.0.0.1', port=6379, db=0, password='your_redis_password')"
   ]
  },
  {
   "cell_type": "markdown",
   "id": "67190942",
   "metadata": {},
   "source": [
    "### Write to the DB"
   ]
  },
  {
   "cell_type": "code",
   "execution_count": null,
   "id": "98237782",
   "metadata": {},
   "outputs": [
    {
     "data": {
      "text/plain": [
       "3"
      ]
     },
     "execution_count": 7,
     "metadata": {},
     "output_type": "execute_result"
    }
   ],
   "source": [
    "# Set some basic key-value pairs\n",
    "r.set(\"user:1:name\", \"Alice\", ex=60) # TTL of 60 seconds\n",
    "r.set(\"user:1:age\", 22)\n",
    "\n",
    "# Set a hash (like a small dictionary)\n",
    "r.hset(\"user:2\", mapping={\n",
    "    \"name\": \"Alya\",\n",
    "    \"age\": 20,\n",
    "    \"email\": \"alya123@gmail.com\"\n",
    "})\n",
    "r.expire(\"user:2\", 120)  # TTL of 120 seconds for the whole hash"
   ]
  },
  {
   "cell_type": "markdown",
   "id": "40ed29bc",
   "metadata": {},
   "source": [
    "### Read from the DB"
   ]
  },
  {
   "cell_type": "code",
   "execution_count": 8,
   "id": "24ca461a",
   "metadata": {},
   "outputs": [
    {
     "name": "stdout",
     "output_type": "stream",
     "text": [
      "User 1's name: Alice\n",
      "User 2 data: {'name': 'Alya', 'age': '20', 'email': 'alya123@gmail.com'}\n"
     ]
    }
   ],
   "source": [
    "# Get a string value\n",
    "name = r.get(\"user:1:name\")\n",
    "print(f\"User 1's name: {name.decode()}\")  # Redis returns bytes, so we decode\n",
    "\n",
    "# Get all fields from a hash\n",
    "user2_data = r.hgetall(\"user:2\")\n",
    "# Decode byte values to strings for readability\n",
    "user2_data = {k.decode(): v.decode() for k, v in user2_data.items()}\n",
    "print(\"User 2 data:\", user2_data)\n"
   ]
  },
  {
   "cell_type": "markdown",
   "id": "8abe61c6",
   "metadata": {},
   "source": [
    "## Rate Limiting (Theory)\n",
    "\n",
    "Rate limiting is a technique used to control how often a user or service can perform a specific action within a given time window. This is useful for:\n",
    "\n",
    "- Preventing abuse (e.g., spamming login attempts)\n",
    "- Protecting APIs from overload\n",
    "- Enforcing fair usage\n",
    "\n",
    "### Redis and Rate Limiting\n",
    "\n",
    "Redis is ideal for implementing rate limiting because of its support for:\n",
    "\n",
    "- Atomic operations like `INCR` (increment)\n",
    "- Key expiration (`EXPIRE`) to automatically reset counters\n",
    "\n",
    "### Basic Strategy\n",
    "\n",
    "1. Each user or action gets a Redis key (e.g., `rate_limit:user123`)\n",
    "2. The key stores the number of actions in a time window (e.g., 60 seconds)\n",
    "3. The first action sets a TTL using `EXPIRE`\n",
    "4. If the count exceeds a threshold, the action is blocked"
   ]
  },
  {
   "cell_type": "markdown",
   "id": "188aee1a",
   "metadata": {},
   "source": [
    "## Rate Limiting Example"
   ]
  },
  {
   "cell_type": "code",
   "execution_count": null,
   "id": "9e520a18",
   "metadata": {},
   "outputs": [],
   "source": [
    "# Simple rate limiter: allow max 5 actions per user in a 60 second window\n",
    "user_id = \"user:123\"\n",
    "key = f\"rate_limit:{user_id}\"\n",
    "\n",
    "# Increment count for this user\n",
    "current = r.incr(key)\n",
    "\n",
    "# If it's the first time, set expiry (60 sec window)\n",
    "if current == 1:\n",
    "    r.expire(key, 60)\n",
    "\n",
    "# Check if the user is rate limited\n",
    "if current > 5:\n",
    "    print(\"Rate limit exceeded. Try again later.\")\n",
    "else:\n",
    "    print(f\"Action allowed ({current}/5 in this 60s window).\")"
   ]
  },
  {
   "cell_type": "markdown",
   "id": "ad714a34",
   "metadata": {},
   "source": [
    "### Links to Additional Code Examples"
   ]
  },
  {
   "cell_type": "markdown",
   "id": "3189a3e3",
   "metadata": {},
   "source": [
    "[redis-demo](https://github.com/viktormandlbauer/redis-demo/tree/main)"
   ]
  }
 ],
 "metadata": {
  "kernelspec": {
   "display_name": "base",
   "language": "python",
   "name": "python3"
  },
  "language_info": {
   "codemirror_mode": {
    "name": "ipython",
    "version": 3
   },
   "file_extension": ".py",
   "mimetype": "text/x-python",
   "name": "python",
   "nbconvert_exporter": "python",
   "pygments_lexer": "ipython3",
   "version": "3.12.7"
  }
 },
 "nbformat": 4,
 "nbformat_minor": 5
}
