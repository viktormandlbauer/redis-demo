{
 "cells": [
  {
   "cell_type": "markdown",
   "id": "4cfe9c3f",
   "metadata": {},
   "source": [
    "# Redis presentation\n",
    "This notebook includes both theoretical and practical parts as outlined in the assignment."
   ]
  },
  {
   "cell_type": "markdown",
   "id": "c50e1487",
   "metadata": {},
   "source": [
    "## 3. Theoretical Introduction to the Database"
   ]
  },
  {
   "cell_type": "markdown",
   "id": "ee9f1a21",
   "metadata": {},
   "source": [
    "### What Is Special About the Database\n",
    "\n",
    "Redis stands out as a high-performance, in-memory key-value database with extended functionality beyond traditional key-value stores.\n",
    "\n",
    "- **Type**: Redis is a **key-value database** (NoSQL).\n",
    "\n",
    "- **Beyond Simple Key-Value**:  \n",
    "  Unlike traditional key-value databases that typically store only strings or binary blobs, Redis supports **structured values**, such as:\n",
    "  - **Lists**\n",
    "  - **Sets**\n",
    "  - **Hashes**\n",
    "  - **Sorted Sets**\n",
    "  - **Streams**, **Bitmaps**, **HyperLogLogs**, etc.\n",
    "\n",
    "  **Examples**:\n",
    "  - *Traditional key-value store*:  \n",
    "    `\"user:1\"` → `\"John Doe\"`\n",
    "  - *Redis-style structured value*:  \n",
    "    `\"user:1\"` → `{ \"name\": \"John\", \"age\": 30, \"hobbies\": [\"cycling\", \"reading\"] }`\n",
    "\n",
    "- **In-Memory Storage**:  \n",
    "  Redis keeps all data in **RAM**, making it **significantly faster** than traditional disk-based databases. RAM access is much quicker than disk I/O, which is why Redis excels in high-speed, real-time scenarios.\n",
    "\n",
    "- **Performance**:  \n",
    "  Redis is **single-threaded** but extremely well optimized. It can handle **hundreds of thousands of operations per second**, even under heavy loads.\n"
   ]
  },
  {
   "cell_type": "markdown",
   "id": "c009d7d2",
   "metadata": {},
   "source": [
    "### Where to find documentation\n",
    "https://redis.io/docs/latest/\n",
    "\n",
    "https://devdocs.io/redis/\n",
    "\n",
    "https://github.com/redis/redis"
   ]
  },
  {
   "cell_type": "markdown",
   "id": "a2a895c6",
   "metadata": {},
   "source": [
    "### What It Is Used For\n",
    "\n",
    "Redis is commonly used in scenarios where speed, simplicity, and real-time performance are important. Typical use cases include:\n",
    "\n",
    "- **Caching**: Store frequently accessed data to reduce load on slower databases.\n",
    "- **Session storage**: Temporary data like login sessions in web applications.\n",
    "- **Message queues**: Using Redis lists or streams for task queues or pub/sub messaging.\n",
    "- **Leaderboard systems**: Using sorted sets to rank players in real-time.\n",
    "- **Real-time analytics**: Count events, track metrics, and generate fast insights.\n",
    "- **Rate limiting**: Controlling how often users can perform certain actions.\n"
   ]
  },
  {
   "cell_type": "markdown",
   "id": "2733a108",
   "metadata": {},
   "source": [
    "### Strengths and Weaknesses\n",
    "\n",
    "#### Strengths\n",
    "\n",
    "- **Speed**: Redis is extremely fast due to its in-memory architecture.\n",
    "- **Rich Data Types**: Supports more than just strings — includes lists, sets, hashes, sorted sets, streams, and more.\n",
    "- **Simplicity**: Easy to install, configure, and use for simple tasks.\n",
    "- **Versatile Use Cases**: Ideal for caching, real-time analytics, pub/sub messaging, session storage, and leaderboards.\n",
    "- **Built-in Features**: Includes atomic operations, publish/subscribe, and Lua scripting support.\n",
    "- **Optional Persistence**: Can persist data using RDB snapshots or AOF logs.\n",
    "- **Scalability**: Supports replication and clustering for high availability and scalability.\n",
    "\n",
    "#### Weaknesses\n",
    "\n",
    "- **Memory-Dependent**: Data is stored in RAM by default, which can become expensive for large datasets.\n",
    "- **Limited Query Capabilities**: No support for complex queries, joins, or relational models like SQL databases.\n",
    "- **Single-threaded Core**: While optimized, CPU-heavy tasks may become bottlenecks.\n",
    "- **Not Ideal for Large Persistent Storage**: Better suited for transient or high-speed data rather than permanent storage.\n",
    "- **Persistence Requires Configuration**: Without proper setup, data loss may occur after restarts.\n",
    "- **Complexity at Scale**: Advanced features like clustering, replication, and stream processing require deeper understanding.\n"
   ]
  },
  {
   "cell_type": "markdown",
   "id": "095383ab",
   "metadata": {},
   "source": [
    "### How to Install It\n",
    "(Include prerequisites, specifics, installation guide for local and Docker-based setup)"
   ]
  },
  {
   "cell_type": "markdown",
   "id": "74763c09",
   "metadata": {},
   "source": [
    "### Documentation Links"
   ]
  },
  {
   "cell_type": "markdown",
   "id": "72c1415a",
   "metadata": {},
   "source": [
    "### Other Important Information\n",
    "\n",
    "- **Client Libraries**: Redis has official and community-supported clients for many programming languages, including:\n",
    "  - Python (`redis-py`)\n",
    "  - Node.js (`ioredis`, `node-redis`)\n",
    "  - Java (`Jedis`)\n",
    "  - Go (`go-redis`)\n",
    "\n",
    "- **Security Considerations**:\n",
    "  - Redis does **not** enable authentication by default — it's important to secure access (especially when exposed to the internet).\n",
    "  - Best practice: bind to `localhost`, use firewalls, or run behind a VPN.\n",
    "  - Redis 6+ supports **ACLs** (Access Control Lists) for better security.\n",
    "\n",
    "- **Data Expiry**: Redis supports **key expiration**, making it ideal for use cases like session tokens and temporary cache storage.\n",
    "\n",
    "- **Lightweight and Fast Setup**: A single binary can run the server, with minimal configuration. Great for local development and testing.\n",
    "\n",
    "- **Redis CLI**: Comes with a built-in command-line interface (`redis-cli`) to test and interact with the database directly.\n",
    "\n",
    "- **Community and Ecosystem**:\n",
    "  - Redis has a large and active community.\n",
    "  - Hosted services are available (e.g., Redis Enterprise, Redis Cloud, AWS ElastiCache).\n",
    "\n",
    "- **Licensing**:\n",
    "  - Redis is **open-source**, released under the **BSD 3-Clause License**.\n"
   ]
  },
  {
   "cell_type": "markdown",
   "id": "a069f8d2",
   "metadata": {},
   "source": [
    "## Practical Example Using Python\n",
    "\n",
    "This section demonstrates how to use Redis in Python, including accessing the database, writing data, and reading data.\n"
   ]
  },
  {
   "cell_type": "markdown",
   "id": "60992a38",
   "metadata": {},
   "source": [
    "### How to Access the DB (Libraries)"
   ]
  },
  {
   "cell_type": "code",
   "execution_count": 4,
   "id": "4a56a235",
   "metadata": {},
   "outputs": [],
   "source": [
    "# Install the Redis Python client if you haven't already:\n",
    "# pip install redis\n",
    "\n",
    "import redis\n",
    "\n",
    "# Connect to local Redis server (default host and port)\n",
    "r = redis.Redis(host='localhost', port=6379, db=0)"
   ]
  },
  {
   "cell_type": "markdown",
   "id": "67190942",
   "metadata": {},
   "source": [
    "### Write to the DB"
   ]
  },
  {
   "cell_type": "code",
   "execution_count": null,
   "id": "98237782",
   "metadata": {},
   "outputs": [],
   "source": [
    "# Set some basic key-value pairs\n",
    "r.set(\"user:1:name\", \"Alice\")\n",
    "r.set(\"user:1:age\", 22)\n",
    "\n",
    "# Set a hash (like a small dictionary)\n",
    "r.hset(\"user:2\", mapping={\n",
    "    \"name\": \"Alya\",\n",
    "    \"age\": 20,\n",
    "    \"email\": \"alya123@gmail.com\"\n",
    "})\n"
   ]
  },
  {
   "cell_type": "markdown",
   "id": "40ed29bc",
   "metadata": {},
   "source": [
    "### Read from the DB"
   ]
  },
  {
   "cell_type": "code",
   "execution_count": null,
   "id": "24ca461a",
   "metadata": {},
   "outputs": [],
   "source": [
    "# Get a string value\n",
    "name = r.get(\"user:1:name\")\n",
    "print(f\"User 1's name: {name.decode()}\")  # Redis returns bytes, so we decode\n",
    "\n",
    "# Get all fields from a hash\n",
    "user2_data = r.hgetall(\"user:2\")\n",
    "# Decode byte values to strings for readability\n",
    "user2_data = {k.decode(): v.decode() for k, v in user2_data.items()}\n",
    "print(\"User 2 data:\", user2_data)\n"
   ]
  },
  {
   "cell_type": "markdown",
   "id": "83ee4744",
   "metadata": {},
   "source": [
    "### Typical Query Language"
   ]
  },
  {
   "cell_type": "markdown",
   "id": "c5f33b85",
   "metadata": {},
   "source": [
    "### Typical Query Language\n",
    "\n",
    "Redis uses simple, command-style queries instead of SQL. Each operation is a specific command followed by its arguments. Examples:"
   ]
  },
  {
   "cell_type": "markdown",
   "id": "8c91ea2b",
   "metadata": {},
   "source": [
    "SET user:1 \"Alice\"\n",
    "GET user:1\n",
    "\n",
    "HSET user:2 name \"Bob\" age \"30\"\n",
    "HGETALL user:2"
   ]
  },
  {
   "cell_type": "markdown",
   "id": "350a64ed",
   "metadata": {},
   "source": [
    "These commands are used directly in the Redis CLI or are translated by libraries (like Python) into method calls."
   ]
  },
  {
   "cell_type": "markdown",
   "id": "ad714a34",
   "metadata": {},
   "source": [
    "### Links to Additional Code Examples"
   ]
  },
  {
   "cell_type": "markdown",
   "id": "3189a3e3",
   "metadata": {},
   "source": [
    "[Add any useful GitHub links or documentation here]"
   ]
  },
  {
   "cell_type": "markdown",
   "id": "3755ebfa",
   "metadata": {},
   "source": [
    "## 5. Outcome\n",
    "- This Jupyter Notebook contains the theoretical and practical components.\n",
    "- Remember to upload this Notebook to Moodle."
   ]
  }
 ],
 "metadata": {
  "kernelspec": {
   "display_name": "base",
   "language": "python",
   "name": "python3"
  },
  "language_info": {
   "codemirror_mode": {
    "name": "ipython",
    "version": 3
   },
   "file_extension": ".py",
   "mimetype": "text/x-python",
   "name": "python",
   "nbconvert_exporter": "python",
   "pygments_lexer": "ipython3",
   "version": "3.12.7"
  }
 },
 "nbformat": 4,
 "nbformat_minor": 5
}
